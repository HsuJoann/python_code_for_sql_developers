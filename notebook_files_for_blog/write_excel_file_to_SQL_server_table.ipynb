{
 "cells": [
  {
   "cell_type": "code",
   "execution_count": null,
   "metadata": {},
   "outputs": [],
   "source": [
    "\"C:\\Users\\jingh\\Documents\\resultFile.xlsx\"\n",
    "\n"
   ]
  },
  {
   "cell_type": "code",
   "execution_count": 5,
   "metadata": {},
   "outputs": [
    {
     "name": "stdout",
     "output_type": "stream",
     "text": [
      "Index(['addresses', 'account'], dtype='object')\n"
     ]
    }
   ],
   "source": [
    "import pandas as pd\n",
    "\n",
    "df = pd.read_excel('C:/Users/jingh/Documents/resultFile.xlsx', sheet_name = 'Sheet1')\n",
    "\n",
    "print(df.columns)\n",
    "\n",
    "from sqlalchemy import create_engine\n",
    "\n",
    "server = 'LAPTOP-S1V0PRKL'\n",
    "\n",
    "database = 'pythontest'\n",
    "\n",
    "sqlcon = create_engine('mssql+pyodbc://@ ' + server + '/' + database + '?trusted_connection=yes&driver=ODBC+Driver+17+for+SQL+Server')\n",
    "\n",
    "df.to_sql('table_test20200207', con = sqlcon, schema = 'schema_test', if_exists = 'append')"
   ]
  },
  {
   "cell_type": "code",
   "execution_count": null,
   "metadata": {},
   "outputs": [],
   "source": []
  }
 ],
 "metadata": {
  "kernelspec": {
   "display_name": "Python 3",
   "language": "python",
   "name": "python3"
  },
  "language_info": {
   "codemirror_mode": {
    "name": "ipython",
    "version": 3
   },
   "file_extension": ".py",
   "mimetype": "text/x-python",
   "name": "python",
   "nbconvert_exporter": "python",
   "pygments_lexer": "ipython3",
   "version": "3.7.3"
  }
 },
 "nbformat": 4,
 "nbformat_minor": 2
}
